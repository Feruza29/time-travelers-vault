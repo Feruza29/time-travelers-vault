{
 "cells": [
  {
   "cell_type": "code",
   "execution_count": null,
   "id": "3b35ae4a-2c00-4ea5-b6b3-8e98aad57a9d",
   "metadata": {},
   "outputs": [
    {
     "name": "stdout",
     "output_type": "stream",
     "text": [
      "\n",
      " -- Time Traveler's Vault --\n",
      "1. View Items\n",
      "2. Borrow Item\n",
      "3. Return Item\n",
      "4. Advance Item\n",
      "5. Exit\n"
     ]
    },
    {
     "name": "stdin",
     "output_type": "stream",
     "text": [
      "Choose an option:  1\n"
     ]
    },
    {
     "name": "stdout",
     "output_type": "stream",
     "text": [
      "Laser Sword (Future) - Available\n",
      "Pharaoh's Amulet (Ancient Egypt) - Available\n",
      "Steam Gun (Industrial Era) - Available\n",
      "\n",
      " -- Time Traveler's Vault --\n",
      "1. View Items\n",
      "2. Borrow Item\n",
      "3. Return Item\n",
      "4. Advance Item\n",
      "5. Exit\n"
     ]
    },
    {
     "name": "stdin",
     "output_type": "stream",
     "text": [
      "Choose an option:  4\n"
     ]
    },
    {
     "name": "stdout",
     "output_type": "stream",
     "text": [
      "\n",
      " -- Time Traveler's Vault --\n",
      "1. View Items\n",
      "2. Borrow Item\n",
      "3. Return Item\n",
      "4. Advance Item\n",
      "5. Exit\n"
     ]
    },
    {
     "name": "stdin",
     "output_type": "stream",
     "text": [
      "Choose an option:  3\n",
      "Enter item name to return:  Laser Sword\n"
     ]
    },
    {
     "name": "stdout",
     "output_type": "stream",
     "text": [
      "\n",
      " -- Time Traveler's Vault --\n",
      "1. View Items\n",
      "2. Borrow Item\n",
      "3. Return Item\n",
      "4. Advance Item\n",
      "5. Exit\n"
     ]
    },
    {
     "name": "stdin",
     "output_type": "stream",
     "text": [
      "Choose an option:  2\n"
     ]
    }
   ],
   "source": [
    "\"\"\" \n",
    "Time Traveler Vault\n",
    "\n",
    "\"\"\"\n",
    "\n",
    "from typing import List, Dict\n",
    "\n",
    "### MODELS ###\n",
    "\n",
    "class Item:\n",
    "    def __init__(self, name: str, origin_era: str, max_duration: int):\n",
    "        self.name = name\n",
    "        self.origin_era = origin_era\n",
    "        self.max_duration = max_duration\n",
    "        self.is_borrowed = False\n",
    "\n",
    "    def __str__(self):\n",
    "        status = \"Borrowed\" if self.is_borrowed else \"Available\"\n",
    "        return f\"{self.name} ({self.origin_era}) - {status}\"\n",
    "\n",
    "\n",
    "class User:\n",
    "    def __init__(self, user_id: int, name: str):\n",
    "        self.user_id = user_id\n",
    "        self.name = name\n",
    "        self.borrowed_items: Dict[str, int] ={}\n",
    "\n",
    "\n",
    "    def borrow_item(self, item_name: str):\n",
    "        self.borrowed_items[item_name] = 0\n",
    "\n",
    "    def return_item(self, item_name: str):\n",
    "        if item_name in self.borrowed_items:\n",
    "            del self.borrowed_items[item_name]\n",
    "\n",
    "\n",
    "### MANAGER ###\n",
    "\n",
    "class GameManager:\n",
    "    def __init__(self):\n",
    "        self.users: Dict[int, User] = {}\n",
    "        self.items: Dict[str, Item] = {}\n",
    "        self.turn = 0\n",
    "\n",
    "    def add_user(self, user: 'User'):\n",
    "        self.users[user.user_id] = user\n",
    "\n",
    "    def add_item(self, item: 'Item'):\n",
    "        self.items[item.name] = item\n",
    "\n",
    "    def borrow_item(self, user_id: int, item_name: str):\n",
    "        user = self.users[user_id]\n",
    "        item = self.items.get(item_name)\n",
    "\n",
    "        if item is None:\n",
    "            print(\"Item doesn't exist. \")\n",
    "            return\n",
    "\n",
    "        if item.is_borrowed:\n",
    "            print(\"Item is already borrowed.\")\n",
    "            return\n",
    "\n",
    "        if self.causes_conflict(user, item.origin_era):\n",
    "            print(\"Conflict detected! Cannot borrow items from conflicting eras.\")\n",
    "            return\n",
    "\n",
    "\n",
    "        item.is_borrowed = True\n",
    "        user.borrow_item(item_name)\n",
    "        print(f\"{user.name} borrowed '{item.name}' from {item.origin_era}.\")\n",
    "\n",
    "\n",
    "    def return_item(self, user_id: int, item_name: str):\n",
    "        user = self.users[user_id]\n",
    "        item = self.items.get(item_name)\n",
    "\n",
    "        if item and item_name in user.borrowed_items:\n",
    "            item.is_borrowed = False\n",
    "            user.return_item(item_name)\n",
    "            print(f\"{user.name} returned '{item.name}'.\")\n",
    "\n",
    "\n",
    "    def next_turn(self):\n",
    "        self.turn += 1\n",
    "        for user in self.users.values():  \n",
    "            for item_name in list(user.borrowed_items):  # looping over borrowed items\n",
    "                user.borrowed_items[item_name] += 1\n",
    "                item = self.items[item_name]\n",
    "                if user.borrowed_items[item_name] > item.max_duration:\n",
    "                    print(f\"⚠ TIME DISRUPTION: {user.name} held '{item.name}' too long!\")\n",
    "\n",
    "\n",
    "\n",
    "    def causes_paradox(self, user: 'User', new_era: str) -> bool:\n",
    "        eras_held = {self.items[item].origin_era for item in user.borrowed_items}\n",
    "        return any(existing_era != new_era for existing_era in eras_held)\n",
    "\n",
    "\n",
    "\n",
    "\n",
    "#### CLI ####\n",
    "\n",
    "def main():\n",
    "    gm = GameManager()\n",
    "\n",
    "    # seed users and items\n",
    "    gm.add_user(User(1, \"Anna the Time Traveler\"))\n",
    "    gm.add_item(Item(\"Laser Sword\", \"Future\", 3))\n",
    "    gm.add_item(Item(\"Pharaoh's Amulet\", \"Ancient Egypt\", 2))\n",
    "    gm.add_item(Item(\"Steam Gun\", \"Industrial Era\", 4))\n",
    "\n",
    "    while True:\n",
    "        print(\"\\n -- Time Traveler's Vault --\")\n",
    "        print(\"1. View Items\")\n",
    "        print(\"2. Borrow Item\")\n",
    "        print(\"3. Return Item\")\n",
    "        print(\"4. Advance Item\")\n",
    "        print(\"5. Exit\")\n",
    "\n",
    "        choice = input(\"Choose an option: \")\n",
    "\n",
    "        if choice == \"1\":\n",
    "            for item in gm.items.values():\n",
    "                print(item)\n",
    "        elif choice == \"2\":\n",
    "            item_name = input(\"Enter item name to borrow: \")\n",
    "            gm.borrow_item(1, item_name)\n",
    "        elif choice == \"3\":\n",
    "            item_name = input(\"Enter item name to return: \")\n",
    "            gm.return_item(1, item_name)\n",
    "        elif choice == \"4\":\n",
    "            gm.next_turn()\n",
    "        elif choice == \"5\":\n",
    "            break\n",
    "        else:\n",
    "            print(\"Invalid input.\")\n",
    "\n",
    "if __name__ == \"__main__\":\n",
    "    main()\n",
    "\n",
    "        \n",
    "            \n",
    "\n",
    "        "
   ]
  },
  {
   "cell_type": "code",
   "execution_count": null,
   "id": "e71fa336-27e1-4d8f-a33a-ead8d2a16915",
   "metadata": {},
   "outputs": [],
   "source": []
  },
  {
   "cell_type": "code",
   "execution_count": null,
   "id": "3d92ccb7-f574-4d0e-8ffd-2f4012fe4054",
   "metadata": {},
   "outputs": [],
   "source": []
  }
 ],
 "metadata": {
  "kernelspec": {
   "display_name": "Python [conda env:base] *",
   "language": "python",
   "name": "conda-base-py"
  },
  "language_info": {
   "codemirror_mode": {
    "name": "ipython",
    "version": 3
   },
   "file_extension": ".py",
   "mimetype": "text/x-python",
   "name": "python",
   "nbconvert_exporter": "python",
   "pygments_lexer": "ipython3",
   "version": "3.12.7"
  }
 },
 "nbformat": 4,
 "nbformat_minor": 5
}
